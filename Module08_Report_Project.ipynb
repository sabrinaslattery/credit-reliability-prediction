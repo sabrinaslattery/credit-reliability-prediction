{
 "cells": [
  {
   "cell_type": "markdown",
   "metadata": {
    "colab_type": "text",
    "id": "view-in-github"
   },
   "source": [
    "<a href=\"https://colab.research.google.com/github/franklin-univ-data-science/comp411/blob/master/Module08_Report_Project.ipynb\" target=\"_parent\"><img src=\"https://colab.research.google.com/assets/colab-badge.svg\" alt=\"Open In Colab\"/></a>"
   ]
  },
  {
   "cell_type": "markdown",
   "metadata": {
    "id": "9_9COFW6s67_"
   },
   "source": [
    "# Research Report"
   ]
  },
  {
   "cell_type": "markdown",
   "metadata": {
    "id": "sBhkJ-gks68B"
   },
   "source": [
    "\n",
    "Explore an on-line published machine learning projects, based on what you have learned in this course, compose a research report at least including:\n",
    "\n",
    "1. What is the problem? \n",
    "2. What is the type of machine learning?\n",
    "3. What are the feature variables and target variables?\n",
    "4. What data preprocessing was used?\n",
    "5. How did the author explore the data?\n",
    "6. What machine learning algorithms were used?\n",
    "6. How the model's performance was evaluated?\n",
    "7. What is the conclusion? Is it reasonable?\n",
    "8. If you were the author, which part would you want to improve?\n",
    "\n",
    "\n",
    "Pick the following Kaggle project: \n",
    "\n",
    "- [Titanic Survival](https://www.kaggle.com/yassineghouzam/titanic-top-4-with-ensemble-modeling)\n",
    "\n",
    "**Due date:** Dec. 4"
   ]
  },
  {
   "cell_type": "markdown",
   "metadata": {
    "id": "FrJwTbG5s68C"
   },
   "source": [
    "# Project"
   ]
  },
  {
   "cell_type": "markdown",
   "metadata": {
    "id": "KVbxv4BNs68D"
   },
   "source": [
    "**Predict the default of a credit card**\n",
    "\n",
    "The training data set includes a binary variable, default payment (Yes = 1, No = 0), as the target variable, and the following 23 variables as the features variables:\n",
    "\n",
    "- X1: Amount of the given credit \n",
    "- X2: Gender (1 = male; 2 = female) \n",
    "- X3: Education (1 = graduate school; 2 = university; 3 = high school; 4 = others) \n",
    "- X4: Marital status (1 = married; 2 = single; 3 = others) \n",
    "- X5: Age \n",
    "- X6 - X11: History of past payment. We tracked the past monthly payment records (from April to September, 2005) as follows: X6 = the repayment status in September, 2005; X7 = the repayment status in August, 2005; . . .;X11 = the repayment status in April, 2005. The measurement scale for the repayment status is: -1 = pay duly; 1 = payment delay for one month; 2 = payment delay for two months; . . .; 8 = payment delay for eight months; 9 = payment delay for nine months and above. \n",
    "- X12-X17: Amount of bill statement. X12 = amount of bill statement in September, 2005; X13 = amount of bill statement in August, 2005; . . .; X17 = amount of bill statement in April, 2005. \n",
    "- X18-X23: Amount of previous payment. X18 = amount paid in September, 2005; X19 = amount paid in August, 2005; . . .;X23 = amount paid in April, 2005. \n",
    "\n",
    "Hint: Check the target variable; is the classes balanced or imbalanced?\n",
    "\n",
    "\n",
    "data file: https://raw.githubusercontent.com/franklin-univ-data-science/data/master/credit_default.csv \n",
    " "
   ]
  },
  {
   "cell_type": "markdown",
   "metadata": {
    "id": "Hz52Io_vs68F"
   },
   "source": [
    "## Actions\n",
    "\n",
    "Implement a model in Jupyter Notebook and discuss the following topics:\n",
    " - Describe the problem\n",
    "   - What is the problem? \n",
    "   - What is the type of machine learning?\n",
    "   - What are the feature variables and target variables?\n",
    " - Data exploration and preprocessing\n",
    "   - How did you explore the data?\n",
    "   - How did you clean the data (are there missing or invalid values)?\n",
    " - Modeling\n",
    "   - Split 20% data as the test set using the random status 123.\n",
    "   - What machine learning algorithms were used? Which is better?\n",
    "   - What evaluation metric do you prefer?\n",
    "   - How did you evaluation model's performance? \n",
    "   - How did you diagnose the model? Is it overfitting, under fitting, or good fitting?\n",
    " - Results and discussion\n",
    "   - What is your model's results? Is it good? Do you have any concerns?\n",
    "   \n",
    "**Due Date:** the last week."
   ]
  }
 ],
 "metadata": {
  "anaconda-cloud": {},
  "colab": {
   "collapsed_sections": [],
   "include_colab_link": true,
   "name": "Module08_Report_Project.ipynb",
   "provenance": []
  },
  "kernelspec": {
   "display_name": "Python 3",
   "language": "python",
   "name": "python3"
  },
  "language_info": {
   "codemirror_mode": {
    "name": "ipython",
    "version": 3
   },
   "file_extension": ".py",
   "mimetype": "text/x-python",
   "name": "python",
   "nbconvert_exporter": "python",
   "pygments_lexer": "ipython3",
   "version": "3.8.3"
  },
  "toc": {
   "base_numbering": 1,
   "nav_menu": {},
   "number_sections": true,
   "sideBar": true,
   "skip_h1_title": false,
   "title_cell": "Table of Contents",
   "title_sidebar": "Contents",
   "toc_cell": false,
   "toc_position": {},
   "toc_section_display": true,
   "toc_window_display": false
  }
 },
 "nbformat": 4,
 "nbformat_minor": 1
}
